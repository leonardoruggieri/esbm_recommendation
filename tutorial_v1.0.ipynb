{
  "nbformat": 4,
  "nbformat_minor": 0,
  "metadata": {
    "language_info": {
      "codemirror_mode": {
        "name": "ipython",
        "version": 3
      },
      "file_extension": ".py",
      "mimetype": "text/x-python",
      "name": "python",
      "nbconvert_exporter": "python",
      "pygments_lexer": "ipython3",
      "version": "3.7.6-final"
    },
    "orig_nbformat": 2,
    "kernelspec": {
      "name": "python_defaultSpec_1598283269969",
      "display_name": "Python 3.7.6 64-bit ('base': conda)"
    },
    "colab": {
      "name": "tutorial.ipynb",
      "provenance": [],
      "collapsed_sections": [],
      "toc_visible": true
    }
  },
  "cells": [
    {
      "cell_type": "markdown",
      "metadata": {
        "id": "2FIX4_pwGc7P",
        "colab_type": "text"
      },
      "source": [
        "# Extended Stochastic Block Model for Recommendations - Tutorial (draft 1.0)\n",
        "\n",
        "#### The following notebook is a preliminary tutorial on how to use the module \"esbmr\" for bipartite network, a blockmodel-based recommender system which allows to make inference on cluster assignments of users and items as well as on their block interactions.\n",
        "\n",
        "#### The module runs a collapsed Gibbs sampling algorithm. Coverged is assesed through the computation of the log-likelihood."
      ]
    },
    {
      "cell_type": "markdown",
      "metadata": {
        "id": "EZpi5qj3H7iw",
        "colab_type": "text"
      },
      "source": [
        "## Model formulation\n",
        "ESBMR can be seen as a Bayesian latent class model for bipartite networks (networks with two separate entity, i.e. users and items) and builds on the ESBM of Legramanti et al. (2020). The user-item interactions $y_{u,i}$ are drawn from a Poisson distribution, with parameter $\\theta_{z_u,z_i}$, where $z_u$ is the cluster assignment of user $u$ and $z_i$ is the cluster assignment of item $i$.\n",
        "\n",
        "In this way, the model discovers latent block structures in user and item entities. At the same time, it estimates the block interaction matrix $\\Theta = \\{\\theta_{h,k}\\}_{h,k}$: for each pair of user-item clusters, the higher is the value of $\\theta_{h,k}$, the higher will be their affinity or probability of interactions. Thanks to cluster assignments and block interaction parameters, we can set up an accurate and identifiable recommender system.\n",
        "\n",
        "The generative model can be summed up as follows:\n",
        "1. For each user $u=1,...,U$:\n",
        "- Draw a cluster assignment $z_u$ according to its prior.\n",
        "2. For each item $i = 1,...,I$:\n",
        "- Draw a cluster assignment $z_i$ according to its prior.\n",
        "3. For each pair of clusters $h,k$:\n",
        "- Sample block interaction parameter: $\\theta_{h,k} \\sim \\text{Gamma}(a,b)$\n",
        "4. For each pair of user-item $u,i$:\n",
        "- Sample the interaction value: $y_{u,i} \\sim \\text{Poisson}(\\theta_{z_u,z_i})$\n"
      ]
    },
    {
      "cell_type": "code",
      "metadata": {
        "id": "nNN_7AlvGc7R",
        "colab_type": "code",
        "colab": {}
      },
      "source": [
        "from esbmr import esbmr # importing the module\n",
        "\n",
        "import pandas as pd\n",
        "import numpy as np \n",
        "import random\n",
        "from numpy import matlib\n",
        "from scipy.special import betaln\n",
        "from scipy.special import gammaln\n",
        "import time\n",
        "import matplotlib.pyplot as plt"
      ],
      "execution_count": 2,
      "outputs": []
    },
    {
      "cell_type": "markdown",
      "metadata": {
        "id": "UI_qYIPcGc7b",
        "colab_type": "text"
      },
      "source": [
        "## Object instantiation\n",
        "The model allows for the choice of Bayesian nonparametric priors on cluster assignments: in this way, the number of clusters is fully inferred from the data, giving the model high flexibility. The priors allowed on cluster assignments are: Dirichlet-Multinomial (DM), Dirichlet process (DP), Pitman-Yor process (PY) and Gnedin process (GN).\n",
        "\n",
        "When an object \"esbmr\" is instantiated, if no arguments are passed, the priors on cluster assignments are automatically set to the Dirichlet process prior. In addition, the hyperparameters $a$ and $b$ are set to 1, to induce a prior with high density near zero."
      ]
    },
    {
      "cell_type": "code",
      "metadata": {
        "id": "nKocQvX0PuIo",
        "colab_type": "code",
        "colab": {
          "base_uri": "https://localhost:8080/",
          "height": 51
        },
        "outputId": "dcd4abf1-7b5b-4f3c-b937-f9379fc1afc1"
      },
      "source": [
        "model = esbmr()\n",
        "print(f\"Prior on cluster assignments of users: {model.prior_u}\\nPrior on cluster assignments of items: {model.prior_i}\")"
      ],
      "execution_count": 3,
      "outputs": [
        {
          "output_type": "stream",
          "text": [
            "Prior on cluster assignments of users: DP\n",
            "Prior on cluster assignments of items: DP\n"
          ],
          "name": "stdout"
        }
      ]
    },
    {
      "cell_type": "markdown",
      "metadata": {
        "id": "Ndxmho4hGc7c",
        "colab_type": "text"
      },
      "source": [
        "## Implementation without covariates\n",
        "The method \"fit\" executes a collapsed Gibbs sampler, with user-specified number of iterations.\\\n",
        " If no covariates are passed, inference will be conducted on network data only.\n",
        "\n",
        "The required input of the model is an adjacency matrix $Y$ of user-item interactions, with implicit or explicit feedback."
      ]
    },
    {
      "cell_type": "code",
      "metadata": {
        "tags": [],
        "id": "u8ji-w8WGc7d",
        "colab_type": "code",
        "colab": {
          "base_uri": "https://localhost:8080/",
          "height": 289
        },
        "outputId": "b24b26ab-8ea8-4c11-d397-ec74e72b8d26"
      },
      "source": [
        "Y = pd.read_csv(\"ratings.csv\")\n",
        "Y = np.array(Y) # data: 49 users and 130 items\n",
        "\n",
        "model.fit(Y,100)"
      ],
      "execution_count": 5,
      "outputs": [
        {
          "output_type": "stream",
          "text": [
            "------------------\n",
            "Initial log-likelihood: -2305.861213177008\n",
            "------------------\n",
            "Gibbs Sampling simulation starts.\n",
            "Iteration 0 complete. Log-likelihood: 1942.4998730599136.\n",
            "Iteration 10 complete. Log-likelihood: 2289.9869624320527.\n",
            "Iteration 20 complete. Log-likelihood: 2325.799706443189.\n",
            "Iteration 30 complete. Log-likelihood: 2321.0164540783917.\n",
            "Iteration 40 complete. Log-likelihood: 2310.826276617979.\n",
            "Iteration 50 complete. Log-likelihood: 2322.5555570270444.\n",
            "Iteration 60 complete. Log-likelihood: 2325.586072986455.\n",
            "Iteration 70 complete. Log-likelihood: 2317.3096147518127.\n",
            "Iteration 80 complete. Log-likelihood: 2313.1761095166567.\n",
            "Iteration 90 complete. Log-likelihood: 2317.7206172123874.\n",
            "Runtime: 10.966681\n",
            "Block-interactions computed.\n"
          ],
          "name": "stdout"
        }
      ]
    },
    {
      "cell_type": "markdown",
      "metadata": {
        "id": "QxQe7XsJGc7j",
        "colab_type": "text"
      },
      "source": [
        "## Block interactions:\n",
        "At the end on the MCMC procedure, the block interaction matrix $\\Theta$ is computed, based on the estimated cluster assignments.\n",
        "\n",
        "Please note that, for the moment, we only take the last value of the MCMC to build our final estimates.\n"
      ]
    },
    {
      "cell_type": "code",
      "metadata": {
        "id": "BgO4GAdPGc7k",
        "colab_type": "code",
        "colab": {
          "base_uri": "https://localhost:8080/",
          "height": 153
        },
        "outputId": "a3735fa8-6502-4a56-bb34-c46238975c24"
      },
      "source": [
        "model.theta_est # block-interaction parameters"
      ],
      "execution_count": 6,
      "outputs": [
        {
          "output_type": "execute_result",
          "data": {
            "text/plain": [
              "array([[8.69061414e-03, 1.48571429e-01, 2.71186441e-01, 3.38000000e+01,\n",
              "        1.00000000e-01, 6.66666667e-02],\n",
              "       [3.26644890e-03, 1.19266055e-01, 4.05405405e-01, 1.10526316e+01,\n",
              "        1.05263158e-01, 1.05263158e-01],\n",
              "       [2.91666667e-01, 1.42857143e-01, 3.33333333e-01, 1.00000000e+00,\n",
              "        5.00000000e-01, 5.00000000e-01],\n",
              "       [3.33333333e-02, 4.28571429e-01, 3.33333333e-01, 1.50000000e+00,\n",
              "        1.00000000e+00, 1.00000000e+00]])"
            ]
          },
          "metadata": {
            "tags": []
          },
          "execution_count": 6
        }
      ]
    },
    {
      "cell_type": "markdown",
      "metadata": {
        "id": "iyo79nqOGc7p",
        "colab_type": "text"
      },
      "source": [
        "## Implementation with covariates\n",
        "In addition to the adjacency matrix $Y$, it is possible to provide categorical, binary, count-type or continuous covariates to the model, which ultimately improves the overall performance.\n",
        "\n",
        "Categorical, binary, count or continuous covariates can be provided both for user entity and for item entity: it sufficies to specify their type in a specific parameter of the \"fit\" method.\n",
        "\n",
        "In the following toy example, we provide two covariates for the user entity. Priors on cluster assignments are set to GN and appropriate parameters are passed."
      ]
    },
    {
      "cell_type": "code",
      "metadata": {
        "id": "U9ncQ_5BGc7q",
        "colab_type": "code",
        "colab": {
          "base_uri": "https://localhost:8080/",
          "height": 425
        },
        "outputId": "9c8cfa03-968d-42a6-e1ac-cd05f8e93241"
      },
      "source": [
        "x1 = np.array([ 1.04, -1.93,  0.61, -1.04,  2.53, -2.33,  0.63,  0.4 ,  0.09,\n",
        "       -0.9 , -0.5 , -0.52, -0.6 , -0.3 ,  0.41,  0.41,  1.15, -0.8 ,\n",
        "       -0.42, -0.4 , -0.63,  0.89,  0.01, -0.91,  0.12, -0.83,  0.01,\n",
        "       -0.64, -2.2 , -0.62,  0.72,  0.45, -0.56,  0.77,  0.81, -0.88,\n",
        "       -0.39,  0.2 , -0.38,  0.69, -2.11, -0.57, -0.74,  0.79,  0.3 ,\n",
        "       -0.32,  0.44,  1.09,  0.11]) # continuous covariate for users\n",
        "\n",
        "x2 = np.array([[5, 8, 6, 6, 3, 8, 2, 6, 4, 6, 5, 3, 3, 9, 5, 6, 9, 0, 3, 4, 0, 9,\n",
        "       2, 2, 6, 8, 2, 5, 1, 6, 8, 9, 3, 1, 7, 9, 7, 1, 4, 2, 7, 5, 2, 0,\n",
        "       3, 3, 7, 8, 2]]) # count-type covariate for users\n",
        "\n",
        "x = np.empty(shape= (2,Y.shape[0]))\n",
        "\n",
        "mod1 = esbmr(prior_u = \"GN\", prior_i = \"GN\", beta = 0.1, components = 2, sigma = 0.4, gamma = 0)\n",
        "mod1.fit(Y, 100, xu = x, xi = None, xu_type = [\"cont\",\"count\"], xi_type = None, verbose = False)\n",
        "\n",
        "mod1.theta_est # block interaction parameters"
      ],
      "execution_count": 7,
      "outputs": [
        {
          "output_type": "stream",
          "text": [
            "------------------\n",
            "2 covariates for 'user' entity provided:\n",
            " - Continuous covariate 0 for users preprocessed.\n",
            " - Count-type covariate 1 for users preprocessed.\n",
            "------------------\n",
            "Initial log-likelihood: -2305.861213177008\n",
            "------------------\n",
            "Gibbs Sampling simulation starts.\n",
            "Iteration 0 complete. Log-likelihood: 1907.3715715589296.\n",
            "Iteration 10 complete. Log-likelihood: 2189.8518221831664.\n",
            "Iteration 20 complete. Log-likelihood: 2313.8238349010576.\n",
            "Iteration 30 complete. Log-likelihood: 2312.3267760242334.\n",
            "Iteration 40 complete. Log-likelihood: 2312.200395875206.\n",
            "Iteration 50 complete. Log-likelihood: 2314.309100593839.\n",
            "Iteration 60 complete. Log-likelihood: 2302.0942727824677.\n",
            "Iteration 70 complete. Log-likelihood: 2311.9978611366346.\n",
            "Iteration 80 complete. Log-likelihood: 2312.2778573061655.\n",
            "Iteration 90 complete. Log-likelihood: 2315.235448491328.\n",
            "Runtime: 14.15685\n",
            "Block-interactions computed.\n"
          ],
          "name": "stdout"
        },
        {
          "output_type": "execute_result",
          "data": {
            "text/plain": [
              "array([[7.46911807e-03, 1.30434783e-01, 3.34193548e+01],\n",
              "       [2.02736949e-03, 1.30630631e-01, 1.04444444e+01],\n",
              "       [2.99145299e-01, 7.14285714e-02, 1.00000000e+00],\n",
              "       [1.70940171e-02, 5.00000000e-01, 1.50000000e+00]])"
            ]
          },
          "metadata": {
            "tags": []
          },
          "execution_count": 7
        }
      ]
    },
    {
      "cell_type": "markdown",
      "metadata": {
        "id": "SHHRYJtQeHek",
        "colab_type": "text"
      },
      "source": [
        "### Convergence diagnostics\n",
        "We plot a term which is proportional to the log-likelihood in order to assess the convergence of the model. \n",
        "\n",
        "Further diagnostics can be delivered for larger networks."
      ]
    },
    {
      "cell_type": "code",
      "metadata": {
        "id": "yN5sWrJ6fi7Q",
        "colab_type": "code",
        "colab": {
          "base_uri": "https://localhost:8080/",
          "height": 388
        },
        "outputId": "706d5f1f-6340-458b-f9bb-d2f56ec835aa"
      },
      "source": [
        "fig, ax = plt.subplots(nrows = 1, ncols = 1, figsize = (10,6))\n",
        "ax.plot(mod1.ll, label = \"Log-likelihood\")\n",
        "plt.xlabel(\"Iteration\")\n",
        "ax.legend();"
      ],
      "execution_count": 20,
      "outputs": [
        {
          "output_type": "display_data",
          "data": {
            "image/png": "[encoded data removed]",
            "text/plain": [
              "<Figure size 720x432 with 1 Axes>"
            ]
          },
          "metadata": {
            "tags": [],
            "needs_background": "light"
          }
        }
      ]
    }
  ]
}