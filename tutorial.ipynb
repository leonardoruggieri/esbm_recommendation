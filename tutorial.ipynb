{
  "nbformat": 4,
  "nbformat_minor": 0,
  "metadata": {
    "language_info": {
      "codemirror_mode": {
        "name": "ipython",
        "version": 3
      },
      "file_extension": ".py",
      "mimetype": "text/x-python",
      "name": "python",
      "nbconvert_exporter": "python",
      "pygments_lexer": "ipython3",
      "version": "3.7.6-final"
    },
    "orig_nbformat": 2,
    "kernelspec": {
      "name": "python_defaultSpec_1598283269969",
      "display_name": "Python 3.7.6 64-bit ('base': conda)"
    },
    "colab": {
      "name": "tutorial.ipynb",
      "provenance": [],
      "collapsed_sections": [],
      "toc_visible": true,
      "include_colab_link": true
    }
  },
  "cells": [
    {
      "cell_type": "markdown",
      "metadata": {
        "id": "view-in-github",
        "colab_type": "text"
      },
      "source": [
        "<a href=\"https://colab.research.google.com/github/leonardoruggieri/esbm_recommendation/blob/master/tutorial.ipynb\" target=\"_parent\"><img src=\"https://colab.research.google.com/assets/colab-badge.svg\" alt=\"Open In Colab\"/></a>"
      ]
    },
    {
      "cell_type": "markdown",
      "metadata": {
        "id": "2FIX4_pwGc7P",
        "colab_type": "text"
      },
      "source": [
        "# Extended Stochastic Block Model for Recommendations - Tutorial (draft 1.0)\n",
        "\n",
        "#### The following notebook is a preliminary tutorial on how to use the module \"esbmr\" for bipartite network, a blockmodel-based recommender system which allows to make inference on cluster assignments of users and items as well as on their block interactions.\n",
        "\n",
        "#### The module runs a collapsed Gibbs sampling algorithm. Coverged is assesed through the computation of the log-likelihood."
      ]
    },
    {
      "cell_type": "markdown",
      "metadata": {
        "id": "EZpi5qj3H7iw",
        "colab_type": "text"
      },
      "source": [
        "## Model formulation\n",
        "ESBMR can be seen as a Bayesian latent class model for bipartite networks (networks with two separate entity, i.e. users and items) and builds on the ESBM of Legramanti et al. (2020). The user-item interactions $y_{u,i}$ are drawn from a Poisson distribution, with parameter $\\theta_{z_u,z_i}$, where $z_u$ is the cluster assignment of user $u$ and $z_i$ is the cluster assignment of item $i$.\n",
        "\n",
        "In this way, the model discovers latent block structures in user and item entities. At the same time, it estimates the block interaction matrix $\\Theta = \\{\\theta_{h,k}\\}_{h,k}$: for each pair of user-item clusters, the higher is the value of $\\theta_{h,k}$, the higher will be their affinity or probability of interactions. Thanks to cluster assignments and block interaction parameters, we can set up an accurate and identifiable recommender system.\n",
        "\n",
        "The generative model can be summed up as follows:\n",
        "1. For each user $u=1,...,U$:\n",
        "- Draw a cluster assignment $z_u$ according to its prior.\n",
        "2. For each item $i = 1,...,I$:\n",
        "- Draw a cluster assignment $z_i$ according to its prior.\n",
        "3. For each pair of clusters $h,k$:\n",
        "- Sample block interaction parameter: $\\theta_{h,k} \\sim \\text{Gamma}(a,b)$\n",
        "4. For each pair of user-item $u,i$:\n",
        "- Sample the interaction value: $y_{u,i} \\sim \\text{Poisson}(\\theta_{z_u,z_i})$\n"
      ]
    },
    {
      "cell_type": "code",
      "metadata": {
        "id": "nNN_7AlvGc7R",
        "colab_type": "code",
        "colab": {}
      },
      "source": [
        "from esbmr import esbmr # importing the module\n",
        "\n",
        "import pandas as pd\n",
        "import numpy as np \n",
        "import random\n",
        "from numpy import matlib\n",
        "from scipy.special import betaln\n",
        "from scipy.special import gammaln\n",
        "import time\n",
        "import matplotlib.pyplot as plt"
      ],
      "execution_count": 1,
      "outputs": []
    },
    {
      "cell_type": "markdown",
      "metadata": {
        "id": "UI_qYIPcGc7b",
        "colab_type": "text"
      },
      "source": [
        "## Object instantiation\n",
        "The model allows for the choice of Bayesian nonparametric priors on cluster assignments: in this way, the number of clusters is fully inferred from the data, giving the model high flexibility. The priors allowed on cluster assignments are: Dirichlet-Multinomial (DM), Dirichlet process (DP), Pitman-Yor process (PY) and Gnedin process (GN).\n",
        "\n",
        "When an object \"esbmr\" is instantiated, if no arguments are passed, the priors on cluster assignments are automatically set to the Dirichlet process prior. In addition, the hyperparameters $a$ and $b$ are set to 1, to induce a prior with high density near zero."
      ]
    },
    {
      "cell_type": "code",
      "metadata": {
        "id": "nKocQvX0PuIo",
        "colab_type": "code",
        "colab": {
          "base_uri": "https://localhost:8080/",
          "height": 51
        },
        "outputId": "e6a03975-de2f-4513-8222-425fbd752f48"
      },
      "source": [
        "model = esbmr()\n",
        "print(f\"Prior on cluster assignments of users: {model.prior_u}\\nPrior on cluster assignments of items: {model.prior_i}\")"
      ],
      "execution_count": 2,
      "outputs": [
        {
          "output_type": "stream",
          "text": [
            "Prior on cluster assignments of users: DP\n",
            "Prior on cluster assignments of items: DP\n"
          ],
          "name": "stdout"
        }
      ]
    },
    {
      "cell_type": "markdown",
      "metadata": {
        "id": "Ndxmho4hGc7c",
        "colab_type": "text"
      },
      "source": [
        "## Implementation without covariates\n",
        "The method \"fit\" executes a collapsed Gibbs sampler, with user-specified number of iterations.\\\n",
        " If no covariates are passed, inference will be conducted on network data only.\n",
        "\n",
        "The required input of the model is an adjacency matrix $Y$ of user-item interactions, with implicit or explicit feedback."
      ]
    },
    {
      "cell_type": "code",
      "metadata": {
        "tags": [],
        "id": "u8ji-w8WGc7d",
        "colab_type": "code",
        "colab": {
          "base_uri": "https://localhost:8080/",
          "height": 289
        },
        "outputId": "c67235f8-62d6-4b2f-daf1-36c012cc413a"
      },
      "source": [
        "Y = pd.read_csv(\"ratings.csv\")\n",
        "Y = np.array(Y)[:,1:] # data: 49 users and 130 items\n",
        "\n",
        "model.fit(Y,100)"
      ],
      "execution_count": 16,
      "outputs": [
        {
          "output_type": "stream",
          "text": [
            "------------------\n",
            "Initial log-likelihood: -4483.275963861725\n",
            "------------------\n",
            "Gibbs Sampling simulation starts.\n",
            "Iteration 0 complete. Log-likelihood: -753.8508428588227.\n",
            "Iteration 10 complete. Log-likelihood: -515.3975749111918.\n",
            "Iteration 20 complete. Log-likelihood: -492.1003145720599.\n",
            "Iteration 30 complete. Log-likelihood: -497.9440660008095.\n",
            "Iteration 40 complete. Log-likelihood: -494.8425974227908.\n",
            "Iteration 50 complete. Log-likelihood: -513.6913283603121.\n",
            "Iteration 60 complete. Log-likelihood: -491.442719998543.\n",
            "Iteration 70 complete. Log-likelihood: -499.15149294256537.\n",
            "Iteration 80 complete. Log-likelihood: -502.8712431038303.\n",
            "Iteration 90 complete. Log-likelihood: -493.2433689179498.\n",
            "Runtime: 10.290620999999994\n",
            "Block-interactions computed.\n"
          ],
          "name": "stdout"
        }
      ]
    },
    {
      "cell_type": "markdown",
      "metadata": {
        "id": "QxQe7XsJGc7j",
        "colab_type": "text"
      },
      "source": [
        "## Block interactions:\n",
        "At the end on the MCMC procedure, the block interaction matrix $\\Theta$ is computed, based on the estimated cluster assignments.\n",
        "\n",
        "Please note that, for the moment, we only take the last value of the MCMC to build our final estimates.\n"
      ]
    },
    {
      "cell_type": "code",
      "metadata": {
        "id": "BgO4GAdPGc7k",
        "colab_type": "code",
        "colab": {
          "base_uri": "https://localhost:8080/",
          "height": 68
        },
        "outputId": "e3af52de-f64c-428f-96fc-b03353225a94"
      },
      "source": [
        "model.theta_est # block-interaction parameters"
      ],
      "execution_count": 17,
      "outputs": [
        {
          "output_type": "execute_result",
          "data": {
            "text/plain": [
              "array([[0.00055142, 0.02217936, 0.24      , 0.44736842],\n",
              "       [0.01112141, 0.13915858, 0.13043478, 0.25      ],\n",
              "       [0.34343434, 0.06896552, 0.33333333, 0.5       ]])"
            ]
          },
          "metadata": {
            "tags": []
          },
          "execution_count": 17
        }
      ]
    },
    {
      "cell_type": "markdown",
      "metadata": {
        "id": "iyo79nqOGc7p",
        "colab_type": "text"
      },
      "source": [
        "## Implementation with covariates\n",
        "In addition to the adjacency matrix $Y$, it is possible to provide categorical, binary, count-type or continuous covariates to the model, which ultimately improves the overall performance.\n",
        "\n",
        "Categorical, binary, count or continuous covariates can be provided both for user entity and for item entity: it sufficies to specify their type in a specific parameter of the \"fit\" method.\n",
        "\n",
        "In the following toy example, we provide two covariates for the user entity. Priors on cluster assignments are set to GN and appropriate parameters are passed."
      ]
    },
    {
      "cell_type": "code",
      "metadata": {
        "id": "U9ncQ_5BGc7q",
        "colab_type": "code",
        "colab": {
          "base_uri": "https://localhost:8080/",
          "height": 408
        },
        "outputId": "a62fce9d-01cf-4990-acf8-46de5924693d"
      },
      "source": [
        "x1 = np.array([ 1.04, -1.93,  0.61, -1.04,  2.53, -2.33,  0.63,  0.4 ,  0.09,\n",
        "       -0.9 , -0.5 , -0.52, -0.6 , -0.3 ,  0.41,  0.41,  1.15, -0.8 ,\n",
        "       -0.42, -0.4 , -0.63,  0.89,  0.01, -0.91,  0.12, -0.83,  0.01,\n",
        "       -0.64, -2.2 , -0.62,  0.72,  0.45, -0.56,  0.77,  0.81, -0.88,\n",
        "       -0.39,  0.2 , -0.38,  0.69, -2.11, -0.57, -0.74,  0.79,  0.3 ,\n",
        "       -0.32,  0.44,  1.09,  0.11]) # continuous covariate for users\n",
        "\n",
        "x2 = np.array([[5, 8, 6, 6, 3, 8, 2, 6, 4, 6, 5, 3, 3, 9, 5, 6, 9, 0, 3, 4, 0, 9,\n",
        "       2, 2, 6, 8, 2, 5, 1, 6, 8, 9, 3, 1, 7, 9, 7, 1, 4, 2, 7, 5, 2, 0,\n",
        "       3, 3, 7, 8, 2]]) # count-type covariate for users\n",
        "\n",
        "x = np.empty(shape= (2,Y.shape[0]))\n",
        "\n",
        "mod1 = esbmr(prior_u = \"GN\", prior_i = \"GN\", beta = 0.1, components = 2, sigma = 0.4, gamma = 0)\n",
        "mod1.fit(Y, 100, xu = x, xi = None, xu_type = [\"cont\",\"count\"], xi_type = None, verbose = False)\n",
        "\n",
        "mod1.theta_est # block interaction parameters"
      ],
      "execution_count": 5,
      "outputs": [
        {
          "output_type": "stream",
          "text": [
            "------------------\n",
            "2 covariates for 'user' entity provided:\n",
            " - Continuous covariate 0 for users preprocessed.\n",
            " - Count-type covariate 1 for users preprocessed.\n",
            "------------------\n",
            "Initial log-likelihood: -2305.861213177008\n",
            "------------------\n",
            "Gibbs Sampling simulation starts.\n",
            "Iteration 0 complete. Log-likelihood: 1934.517580837316.\n",
            "Iteration 10 complete. Log-likelihood: 2173.21269034573.\n",
            "Iteration 20 complete. Log-likelihood: 2310.493801509464.\n",
            "Iteration 30 complete. Log-likelihood: 2311.310286716224.\n",
            "Iteration 40 complete. Log-likelihood: 2317.2241572432604.\n",
            "Iteration 50 complete. Log-likelihood: 2313.5149379206186.\n",
            "Iteration 60 complete. Log-likelihood: 2307.7058405501475.\n",
            "Iteration 70 complete. Log-likelihood: 2304.3107113238757.\n",
            "Iteration 80 complete. Log-likelihood: 2312.2778573061655.\n",
            "Iteration 90 complete. Log-likelihood: 2303.005897722343.\n",
            "Runtime: 13.915911999999999\n",
            "Block-interactions computed.\n"
          ],
          "name": "stdout"
        },
        {
          "output_type": "execute_result",
          "data": {
            "text/plain": [
              "array([[1.31250000e-01, 9.34852469e-03, 3.38333333e+01],\n",
              "       [1.76190476e-01, 2.67498885e-03, 1.05500000e+01],\n",
              "       [8.33333333e-02, 2.94117647e-01, 1.00000000e+00]])"
            ]
          },
          "metadata": {
            "tags": []
          },
          "execution_count": 5
        }
      ]
    },
    {
      "cell_type": "markdown",
      "metadata": {
        "id": "fLRV-2SS_Mu8",
        "colab_type": "text"
      },
      "source": [
        "### Prediction and Mean Squared Error computation\n",
        "In-sample MSE can be computed with the method 'mse', after the interactions have been predicted with the dedicated method 'predict'.\n",
        "\n",
        "The out-of-sample MSE can be computed as well, provided an appropriate train/validation split before the MCMC procedure, as in the following example."
      ]
    },
    {
      "cell_type": "code",
      "metadata": {
        "id": "3GO6e6db_Z2_",
        "colab_type": "code",
        "colab": {
          "base_uri": "https://localhost:8080/",
          "height": 306
        },
        "outputId": "05ad5494-6172-477d-e9d2-299d0ca237be"
      },
      "source": [
        "def train_val_split(data, valid_dim=0.2):\n",
        "        '''\n",
        "        Creating two additional objects, i.e. training and validation set, which can be used in the fitting process\n",
        "\n",
        "        Parameters:\n",
        "        data = np.array\n",
        "        valid_dim = float\n",
        "        '''\n",
        "        if valid_dim >= 1:\n",
        "          raise ValueError(\"valid_dim must be lower than 1\")\n",
        "\n",
        "        train = data.copy()\n",
        "        valid = np.zeros(data.shape)\n",
        "\n",
        "        for u in np.unique(data.nonzero()[0]):\n",
        "            ind = data[u].nonzero()[0] \n",
        "\n",
        "            if len(ind) > 0: \n",
        "                valid_ind = np.random.choice(ind, round(len(ind)*valid_dim), replace=False)\n",
        "                for i in valid_ind:\n",
        "                    valid[u,i], train[u,i] = data[u,i], 0\n",
        "        return train, valid\n",
        "\n",
        "train, test = train_val_split(Y, valid_dim = 0.2)\n",
        "model = esbmr()\n",
        "model.fit(train, 100)\n",
        "y_pred = model.predict(test)\n",
        "model.mse(train = train, pred = y_pred, valid = test)"
      ],
      "execution_count": 18,
      "outputs": [
        {
          "output_type": "stream",
          "text": [
            "------------------\n",
            "Initial log-likelihood: -4464.560989986607\n",
            "------------------\n",
            "Gibbs Sampling simulation starts.\n",
            "Iteration 0 complete. Log-likelihood: -657.2495178738495.\n",
            "Iteration 10 complete. Log-likelihood: -453.7336468616063.\n",
            "Iteration 20 complete. Log-likelihood: -452.3540031911932.\n",
            "Iteration 30 complete. Log-likelihood: -446.4210617842815.\n",
            "Iteration 40 complete. Log-likelihood: -462.0155752370244.\n",
            "Iteration 50 complete. Log-likelihood: -460.3971509105577.\n",
            "Iteration 60 complete. Log-likelihood: -440.55547180735687.\n",
            "Iteration 70 complete. Log-likelihood: -459.99568722279594.\n",
            "Iteration 80 complete. Log-likelihood: -445.8709316414611.\n",
            "Iteration 90 complete. Log-likelihood: -447.6334827306904.\n",
            "Runtime: 10.152674999999995\n",
            "Block-interactions computed.\n"
          ],
          "name": "stdout"
        },
        {
          "output_type": "execute_result",
          "data": {
            "text/plain": [
              "(0.7478957602928561, 0.7704321375103075)"
            ]
          },
          "metadata": {
            "tags": []
          },
          "execution_count": 18
        }
      ]
    },
    {
      "cell_type": "markdown",
      "metadata": {
        "id": "EN4SjXgkA0d2",
        "colab_type": "text"
      },
      "source": [
        "Performances are pretty similar to other competing models, with the advantage of a much clearer interpretation of the output parameters as block interactions and the inference on the block structure of the network."
      ]
    },
    {
      "cell_type": "markdown",
      "metadata": {
        "id": "SHHRYJtQeHek",
        "colab_type": "text"
      },
      "source": [
        "### Convergence diagnostics\n",
        "We plot a term which is proportional to the log-likelihood in order to assess the convergence of the model. \n",
        "\n",
        "Further diagnostics can be delivered for larger networks."
      ]
    },
    {
      "cell_type": "code",
      "metadata": {
        "id": "yN5sWrJ6fi7Q",
        "colab_type": "code",
        "colab": {
          "base_uri": "https://localhost:8080/",
          "height": 388
        },
        "outputId": "4d61c9e3-1981-4041-ae78-ce08c35f3547"
      },
      "source": [
        "fig, ax = plt.subplots(nrows = 1, ncols = 1, figsize = (10,6))\n",
        "ax.plot(mod1.ll, label = \"Log-likelihood\")\n",
        "plt.xlabel(\"Iteration\")\n",
        "ax.legend();"
      ],
      "execution_count": 19,
      "outputs": [
        {
          "output_type": "display_data",
          "data": {
            "image/png": "[encoded data removed]",
            "text/plain": [
              "<Figure size 720x432 with 1 Axes>"
            ]
          },
          "metadata": {
            "tags": [],
            "needs_background": "light"
          }
        }
      ]
    }
  ]
}