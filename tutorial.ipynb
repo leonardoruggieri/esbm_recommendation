{
 "metadata": {
  "language_info": {
   "codemirror_mode": {
    "name": "ipython",
    "version": 3
   },
   "file_extension": ".py",
   "mimetype": "text/x-python",
   "name": "python",
   "nbconvert_exporter": "python",
   "pygments_lexer": "ipython3",
   "version": "3.7.6-final"
  },
  "orig_nbformat": 2,
  "kernelspec": {
   "name": "python_defaultSpec_1598283269969",
   "display_name": "Python 3.7.6 64-bit ('base': conda)"
  }
 },
 "nbformat": 4,
 "nbformat_minor": 2,
 "cells": [
  {
   "cell_type": "markdown",
   "metadata": {},
   "source": [
    "# Extended Stochastic Block Model for Recommendations - Tutorial (draft 1.0)\n",
    "## This is a preliminary tutorial on how to use the module \"esbmb\" for bipartite network to make inference on cluster assignments $z$ of users and items as well as on block interactions $\\Theta$."
   ]
  },
  {
   "cell_type": "code",
   "execution_count": 4,
   "metadata": {},
   "outputs": [],
   "source": [
    "from esbmb import esbmb\n",
    "\n",
    "import pandas as pd\n",
    "import numpy as np \n",
    "import random\n",
    "from numpy import matlib\n",
    "from scipy.special import betaln\n",
    "from scipy.special import gammaln\n",
    "import time\n",
    "import matplotlib.pyplot as plt"
   ]
  },
  {
   "cell_type": "markdown",
   "metadata": {},
   "source": [
    "## A closer look to the initialization\n",
    "If no parameters are passed to the instantiation of an object \"esbmb\", the module automatically sets Dirichlet Process priors on cluster assignments of users and items. a and b are set to 1."
   ]
  },
  {
   "cell_type": "markdown",
   "metadata": {},
   "source": [
    "## Providing no covariates:\n",
    "The method \"fit\" executes a Gibbs sampler, with user-specified number of iterations.\n",
    "We use toy data"
   ]
  },
  {
   "cell_type": "code",
   "execution_count": 9,
   "metadata": {
    "tags": []
   },
   "outputs": [
    {
     "output_type": "stream",
     "name": "stdout",
     "text": "------------------\nInitial log-likelihood: -196.32858651238305\n------------------\nGibbs Sampling simulation starts.\nIteration 0 complete. Log-likelihood: 250.3045931898321.\nIteration 10 complete. Log-likelihood: 270.24473129650164.\nIteration 20 complete. Log-likelihood: 270.8692641731425.\nIteration 30 complete. Log-likelihood: 271.47930638929.\nIteration 40 complete. Log-likelihood: 274.2400306807452.\nIteration 50 complete. Log-likelihood: 274.39060280271485.\nIteration 60 complete. Log-likelihood: 273.356919770585.\nIteration 70 complete. Log-likelihood: 274.55616561091006.\nIteration 80 complete. Log-likelihood: 271.47930638929.\nIteration 90 complete. Log-likelihood: 272.6497392900243.\nRuntime: 2.066733\nBlock-interactions computed.\n"
    }
   ],
   "source": [
    "type1 = np.array([5,5,5,5,2,1,0,0,0,0,0,0,0,0,0,0])\n",
    "type2 = np.array([0,0,0,0,0,0,5,5,2,3,1,4,4,5,5,1])\n",
    "Y = np.array([type1, type1, type1, type1, type1, type1, type1, type1, type1, type1, type1, type1, type1, type1, type2, type2, type2, type2, type2, type2, type2, type2, type2, type2, type2, type2, type2])\n",
    "\n",
    "\n",
    "mod = esbmb()\n",
    "mod.fit(Y,100)"
   ]
  },
  {
   "cell_type": "markdown",
   "metadata": {},
   "source": [
    "## Block interactions:\n",
    "The block interaction matrix $\\Theta$ is computed afterwards with the estimated cluster assignments:\n"
   ]
  },
  {
   "cell_type": "code",
   "execution_count": 6,
   "metadata": {},
   "outputs": [
    {
     "output_type": "execute_result",
     "data": {
      "text/plain": "array([[0.01176471, 4.92982456, 0.03448276, 1.93333333, 0.03448276,\n        1.        ],\n       [4.62025316, 0.01886792, 2.44444444, 0.07142857, 1.        ,\n        0.07142857]])"
     },
     "metadata": {},
     "execution_count": 6
    }
   ],
   "source": [
    "mod.theta_est"
   ]
  },
  {
   "cell_type": "markdown",
   "metadata": {},
   "source": [
    "## Providing covariates\n",
    "Categorical, binary, count or continuous covariates can be provided both for user entity and for item entity. It sufficies to specify their nature in a specific parameter of the \"fit\" method, as follows:"
   ]
  },
  {
   "cell_type": "code",
   "execution_count": 11,
   "metadata": {},
   "outputs": [
    {
     "output_type": "error",
     "ename": "NameError",
     "evalue": "name 'Y' is not defined",
     "traceback": [
      "\u001b[0;31m---------------------------------------------------------------------------\u001b[0m",
      "\u001b[0;31mNameError\u001b[0m                                 Traceback (most recent call last)",
      "\u001b[0;32m<ipython-input-11-724c7698a247>\u001b[0m in \u001b[0;36m<module>\u001b[0;34m\u001b[0m\n\u001b[1;32m      9\u001b[0m \u001b[0;34m\u001b[0m\u001b[0m\n\u001b[1;32m     10\u001b[0m \u001b[0mmod1\u001b[0m \u001b[0;34m=\u001b[0m \u001b[0mesbmb\u001b[0m\u001b[0;34m(\u001b[0m\u001b[0mprior_u\u001b[0m \u001b[0;34m=\u001b[0m \u001b[0;34m\"PY\"\u001b[0m\u001b[0;34m,\u001b[0m \u001b[0mprior_i\u001b[0m \u001b[0;34m=\u001b[0m \u001b[0;34m\"PY\"\u001b[0m\u001b[0;34m,\u001b[0m \u001b[0mbeta\u001b[0m \u001b[0;34m=\u001b[0m \u001b[0;36m0.1\u001b[0m\u001b[0;34m,\u001b[0m \u001b[0mcomponents\u001b[0m \u001b[0;34m=\u001b[0m \u001b[0;36m2\u001b[0m\u001b[0;34m,\u001b[0m \u001b[0msigma\u001b[0m \u001b[0;34m=\u001b[0m \u001b[0;36m0.4\u001b[0m\u001b[0;34m,\u001b[0m \u001b[0mgamma\u001b[0m \u001b[0;34m=\u001b[0m \u001b[0;36m0\u001b[0m\u001b[0;34m)\u001b[0m\u001b[0;34m\u001b[0m\u001b[0;34m\u001b[0m\u001b[0m\n\u001b[0;32m---> 11\u001b[0;31m \u001b[0mmod1\u001b[0m\u001b[0;34m.\u001b[0m\u001b[0mfit\u001b[0m\u001b[0;34m(\u001b[0m\u001b[0mY\u001b[0m\u001b[0;34m,\u001b[0m \u001b[0;36m100\u001b[0m\u001b[0;34m,\u001b[0m \u001b[0mxu\u001b[0m \u001b[0;34m=\u001b[0m \u001b[0;32mNone\u001b[0m\u001b[0;34m,\u001b[0m \u001b[0mxi\u001b[0m \u001b[0;34m=\u001b[0m \u001b[0mx\u001b[0m\u001b[0;34m,\u001b[0m \u001b[0mxi_type\u001b[0m \u001b[0;34m=\u001b[0m \u001b[0;34m[\u001b[0m\u001b[0;34m\"cont\"\u001b[0m\u001b[0;34m,\u001b[0m\u001b[0;34m\"cont\"\u001b[0m\u001b[0;34m]\u001b[0m\u001b[0;34m,\u001b[0m \u001b[0mxu_type\u001b[0m \u001b[0;34m=\u001b[0m \u001b[0;32mNone\u001b[0m\u001b[0;34m,\u001b[0m \u001b[0mverbose\u001b[0m \u001b[0;34m=\u001b[0m \u001b[0;32mFalse\u001b[0m\u001b[0;34m)\u001b[0m\u001b[0;34m\u001b[0m\u001b[0;34m\u001b[0m\u001b[0m\n\u001b[0m\u001b[1;32m     12\u001b[0m \u001b[0mmod1\u001b[0m\u001b[0;34m.\u001b[0m\u001b[0mtheta_est\u001b[0m\u001b[0;34m\u001b[0m\u001b[0;34m\u001b[0m\u001b[0m\n",
      "\u001b[0;32m~/Documents/Bocconi ESS/5. Tesi/Codice/esbmb.py\u001b[0m in \u001b[0;36mfit\u001b[0;34m(self, Y, its, xu, xi, alpha_xu, alpha_xi, beta_xu, beta_xi, cont_par, xu_type, xi_type, verbose)\u001b[0m\n\u001b[1;32m     59\u001b[0m         \u001b[0mself\u001b[0m\u001b[0;34m.\u001b[0m\u001b[0m__howmany_covariates\u001b[0m\u001b[0;34m(\u001b[0m\u001b[0;34m)\u001b[0m\u001b[0;34m\u001b[0m\u001b[0;34m\u001b[0m\u001b[0m\n\u001b[1;32m     60\u001b[0m \u001b[0;34m\u001b[0m\u001b[0m\n\u001b[0;32m---> 61\u001b[0;31m         \u001b[0mself\u001b[0m\u001b[0;34m.\u001b[0m\u001b[0m__check_covariates\u001b[0m\u001b[0;34m(\u001b[0m\u001b[0;34m)\u001b[0m\u001b[0;34m\u001b[0m\u001b[0;34m\u001b[0m\u001b[0m\n\u001b[0m\u001b[1;32m     62\u001b[0m         \u001b[0mself\u001b[0m\u001b[0;34m.\u001b[0m\u001b[0m__covariates_preprocessing\u001b[0m\u001b[0;34m(\u001b[0m\u001b[0;34m)\u001b[0m\u001b[0;34m\u001b[0m\u001b[0;34m\u001b[0m\u001b[0m\n\u001b[1;32m     63\u001b[0m \u001b[0;34m\u001b[0m\u001b[0m\n",
      "\u001b[0;32m~/Documents/Bocconi ESS/5. Tesi/Codice/esbmb.py\u001b[0m in \u001b[0;36m__check_covariates\u001b[0;34m(self)\u001b[0m\n\u001b[1;32m   1061\u001b[0m         \u001b[0;32mif\u001b[0m \u001b[0mself\u001b[0m\u001b[0;34m.\u001b[0m\u001b[0mxi\u001b[0m \u001b[0;32mis\u001b[0m \u001b[0;32mnot\u001b[0m \u001b[0;32mNone\u001b[0m \u001b[0;32mand\u001b[0m \u001b[0mself\u001b[0m\u001b[0;34m.\u001b[0m\u001b[0mn_cov_i\u001b[0m \u001b[0;34m>\u001b[0m \u001b[0;36m1\u001b[0m\u001b[0;34m:\u001b[0m\u001b[0;34m\u001b[0m\u001b[0;34m\u001b[0m\u001b[0m\n\u001b[1;32m   1062\u001b[0m             \u001b[0;32mif\u001b[0m \u001b[0mself\u001b[0m\u001b[0;34m.\u001b[0m\u001b[0mxi\u001b[0m\u001b[0;34m.\u001b[0m\u001b[0mshape\u001b[0m\u001b[0;34m[\u001b[0m\u001b[0;36m1\u001b[0m\u001b[0;34m]\u001b[0m \u001b[0;34m!=\u001b[0m \u001b[0mself\u001b[0m\u001b[0;34m.\u001b[0m\u001b[0mY\u001b[0m\u001b[0;34m.\u001b[0m\u001b[0mshape\u001b[0m\u001b[0;34m[\u001b[0m\u001b[0;36m1\u001b[0m\u001b[0;34m]\u001b[0m\u001b[0;34m:\u001b[0m\u001b[0;34m\u001b[0m\u001b[0;34m\u001b[0m\u001b[0m\n\u001b[0;32m-> 1063\u001b[0;31m                 \u001b[0;32mraise\u001b[0m \u001b[0mValueError\u001b[0m\u001b[0;34m(\u001b[0m\u001b[0;34mf\"Invalid dimension of 'xi'. 'xi' should be an array of dimension ({self.n_cov_i,Y.shape[1]}) instead of ({self.n_cov_i,self.xi.shape[1]}).\"\u001b[0m\u001b[0;34m)\u001b[0m\u001b[0;34m\u001b[0m\u001b[0;34m\u001b[0m\u001b[0m\n\u001b[0m\u001b[1;32m   1064\u001b[0m \u001b[0;34m\u001b[0m\u001b[0m\n\u001b[1;32m   1065\u001b[0m             \u001b[0;32mif\u001b[0m \u001b[0mlen\u001b[0m\u001b[0;34m(\u001b[0m\u001b[0mself\u001b[0m\u001b[0;34m.\u001b[0m\u001b[0mxi_type\u001b[0m\u001b[0;34m)\u001b[0m \u001b[0;34m!=\u001b[0m \u001b[0mself\u001b[0m\u001b[0;34m.\u001b[0m\u001b[0mn_cov_i\u001b[0m\u001b[0;34m:\u001b[0m\u001b[0;34m\u001b[0m\u001b[0;34m\u001b[0m\u001b[0m\n",
      "\u001b[0;31mNameError\u001b[0m: name 'Y' is not defined"
     ]
    }
   ],
   "source": [
    "x1 = [100,100,100,100,100,100,100,0,10,50,0,0,0,0]\n",
    "x2 = [80,90,80,75,80,95,100,20,10,20,30,20,20,15]\n",
    "x = np.empty(shape= (2,Y.shape[0]))\n",
    "\n",
    "type1 = np.array([5,5,5,5,2,1,0,0,0,0,0,0,0,0,0,0])\n",
    "type2 = np.array([0,0,0,0,0,0,5,5,2,3,1,4,4,5,5,1])\n",
    "\n",
    "Y = np.array([type1, type1, type1, type1, type1, type1, type1, type1, type1, type1, type1, type1, type1, type1, type2, type2, type2, type2, type2, type2, type2, type2, type2, type2, type2, type2, type2])\n",
    "\n",
    "mod1 = esbmb(prior_u = \"PY\", prior_i = \"PY\", beta = 0.1, components = 2, sigma = 0.4, gamma = 0)\n",
    "mod1.fit(Y, 100, xu = None, xi = x, xi_type = [\"cont\",\"cont\"], xu_type = None, verbose = False)\n",
    "mod1.theta_est"
   ]
  },
  {
   "cell_type": "code",
   "execution_count": null,
   "metadata": {},
   "outputs": [],
   "source": []
  }
 ]
}